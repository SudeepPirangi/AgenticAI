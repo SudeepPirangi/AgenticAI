{
 "cells": [
  {
   "cell_type": "code",
   "execution_count": 44,
   "id": "f595363d",
   "metadata": {},
   "outputs": [],
   "source": [
    "import random\n",
    "from typing import TypedDict, List\n",
    "from langgraph.graph import StateGraph, START, END"
   ]
  },
  {
   "cell_type": "code",
   "execution_count": 45,
   "id": "a1226610",
   "metadata": {},
   "outputs": [],
   "source": [
    "class AgentState(TypedDict):\n",
    "    name: str\n",
    "    guesses: List[int]\n",
    "    attempts: int\n",
    "    lower_bound: int\n",
    "    upper_bound: int"
   ]
  },
  {
   "cell_type": "code",
   "execution_count": 55,
   "id": "a63cc667",
   "metadata": {},
   "outputs": [],
   "source": [
    "MAX_GUESSES = 5\n",
    "\n",
    "SETUP = \"SETUP\"\n",
    "GUESS = \"GUESS\"\n",
    "HINT = \"HINT\"\n",
    "LOOP = \"continue\"\n",
    "EXIT = \"exit\""
   ]
  },
  {
   "cell_type": "code",
   "execution_count": null,
   "id": "ab2bb702",
   "metadata": {},
   "outputs": [],
   "source": [
    "def setup(state: AgentState) -> AgentState:\n",
    "    \"\"\"Sets up all the initial values in the state\"\"\"\n",
    "\n",
    "    state['attempts'] = 0\n",
    "    state['guesses'] = []\n",
    "    state['lower_bound'] = 1\n",
    "    state['upper_bound'] = 20\n",
    "\n",
    "    print(f\"\\n{state[\"name\"]}, the target is set to {TARGET}. Lets roll!\")\n",
    "    return state\n",
    "\n",
    "def guess(state: AgentState) -> AgentState:\n",
    "    \"\"\"Guess a number within the given lower and upper bounds\"\"\"\n",
    "    num = random.randint(state[\"lower_bound\"], state[\"upper_bound\"])\n",
    "    state[\"guesses\"].append(num)\n",
    "    state['attempts'] += 1\n",
    "\n",
    "    print(f\"Guessed {num} from [{state[\"lower_bound\"]}, {state[\"upper_bound\"]}]\")\n",
    "    return state\n",
    "\n",
    "def hint(state: AgentState) -> AgentState:\n",
    "    \"\"\"Validate the guessed value and give a hint if that's wrong\"\"\"\n",
    "    guess = state[\"guesses\"][-1]\n",
    "    if guess < TARGET:\n",
    "        state[\"lower_bound\"] = guess + 1\n",
    "        print(\"HINT: Higher\")\n",
    "    if guess > TARGET:\n",
    "        state[\"upper_bound\"] = guess - 1\n",
    "        print(\"HINT: Lower\")\n",
    "    return state\n",
    "\n",
    "def should_continue(state: AgentState) -> AgentState:\n",
    "    \"\"\"Decides if the game should continue\"\"\"\n",
    "\n",
    "    guess = state[\"guesses\"][-1]\n",
    "    if guess == TARGET:\n",
    "        print(f\"Amazing! The guess {guess} was right. You have guessed it in {state[\"attempts\"]} attempts\")\n",
    "        return EXIT\n",
    "    elif state['attempts'] == MAX_GUESSES:\n",
    "        print(f\"You have exhausted all your attempts before guessing the number {TARGET}. Better luck next time!\")\n",
    "        return EXIT\n",
    "    else:\n",
    "        return LOOP"
   ]
  },
  {
   "cell_type": "code",
   "execution_count": 51,
   "id": "22379316",
   "metadata": {},
   "outputs": [],
   "source": [
    "graph = StateGraph(AgentState)\n",
    "\n",
    "graph.add_node(SETUP, setup)\n",
    "graph.add_node(GUESS, guess)\n",
    "graph.add_node(HINT, hint)\n",
    "\n",
    "graph.add_edge(START, SETUP)\n",
    "graph.add_edge(SETUP, GUESS)\n",
    "graph.add_edge(GUESS, HINT)\n",
    "graph.add_conditional_edges(HINT, should_continue, {\n",
    "    LOOP: GUESS,\n",
    "    EXIT: END\n",
    "})\n",
    "\n",
    "app = graph.compile()"
   ]
  },
  {
   "cell_type": "code",
   "execution_count": 60,
   "id": "118187be",
   "metadata": {},
   "outputs": [
    {
     "name": "stdout",
     "output_type": "stream",
     "text": [
      "\n",
      "Sudeep, the target is set to 2. Lets roll!\n",
      "Guessed 16 from 1, 20\n",
      "HINT: Lower\n",
      "Guessed 11 from 1, 15\n",
      "HINT: Lower\n",
      "Guessed 1 from 1, 10\n",
      "HINT: Higher\n",
      "Guessed 3 from 2, 10\n",
      "HINT: Lower\n",
      "Guessed 2 from 2, 2\n",
      "Amazing! The guess 2 was right. You have guessed it in 5 attempts\n"
     ]
    }
   ],
   "source": [
    "TARGET = random.randint(1, 20)\n",
    "\n",
    "input_state = AgentState({ \"name\": \"Sudeep\" })\n",
    "\n",
    "result = app.invoke(input_state)"
   ]
  },
  {
   "cell_type": "code",
   "execution_count": 50,
   "id": "f5740ae2",
   "metadata": {},
   "outputs": [],
   "source": [
    "# from IPython.display import Image, display\n",
    "\n",
    "# display(Image(app.get_graph().draw_mermaid_png()))"
   ]
  }
 ],
 "metadata": {
  "kernelspec": {
   "display_name": ".venv",
   "language": "python",
   "name": "python3"
  },
  "language_info": {
   "codemirror_mode": {
    "name": "ipython",
    "version": 3
   },
   "file_extension": ".py",
   "mimetype": "text/x-python",
   "name": "python",
   "nbconvert_exporter": "python",
   "pygments_lexer": "ipython3",
   "version": "3.12.5"
  }
 },
 "nbformat": 4,
 "nbformat_minor": 5
}
