{
 "cells": [
  {
   "cell_type": "markdown",
   "id": "91d1b09a",
   "metadata": {},
   "source": [
    "## Multi-node Graph"
   ]
  },
  {
   "cell_type": "markdown",
   "id": "339202ba",
   "metadata": {},
   "source": [
    "Imports"
   ]
  },
  {
   "cell_type": "code",
   "execution_count": 1,
   "id": "bb243d0a",
   "metadata": {},
   "outputs": [],
   "source": [
    "from typing import TypedDict, List\n",
    "from langgraph.graph import StateGraph"
   ]
  },
  {
   "cell_type": "markdown",
   "id": "f5b52802",
   "metadata": {},
   "source": [
    "Sets up the state schema"
   ]
  },
  {
   "cell_type": "code",
   "execution_count": 3,
   "id": "feb8c7c2",
   "metadata": {},
   "outputs": [],
   "source": [
    "class AgentState(TypedDict):\n",
    "    name: str\n",
    "    age: int\n",
    "    skills: List[str]\n",
    "    message: str\n"
   ]
  },
  {
   "cell_type": "markdown",
   "id": "894d4da4",
   "metadata": {},
   "source": [
    "Define nodes"
   ]
  },
  {
   "cell_type": "code",
   "execution_count": 10,
   "id": "e545f4ba",
   "metadata": {},
   "outputs": [],
   "source": [
    "def greet_user(state: AgentState) -> AgentState:\n",
    "    \"\"\"First node in the Graph\"\"\"\n",
    "\n",
    "    state['message'] = f\"\\n{state['name']}, welcome to the system! \"\n",
    "    return state\n",
    "\n",
    "def display_age(state: AgentState) -> AgentState:\n",
    "    \"\"\"Second node in the Graph\"\"\"\n",
    "\n",
    "    state['message'] += f\"You are {state['age']} years old! \"\n",
    "    return state\n",
    "\n",
    "def display_skills(state: AgentState) -> AgentState:\n",
    "    \"\"\"Third node in the Graph\"\"\"\n",
    "\n",
    "    state['message'] += f\"You have skills in {\", \".join(state['skills'])}\"\n",
    "    return state"
   ]
  },
  {
   "cell_type": "markdown",
   "id": "c3b9e861",
   "metadata": {},
   "source": [
    "Set-up the Graph and connect nodes"
   ]
  },
  {
   "cell_type": "code",
   "execution_count": 12,
   "id": "d18dad8e",
   "metadata": {},
   "outputs": [],
   "source": [
    "graph = StateGraph(AgentState)\n",
    "\n",
    "GREET_USER = \"greet_user\"\n",
    "DISPLAY_AGE = \"display_age\"\n",
    "DISPLAY_SKILLS = \"display_skills\"\n",
    "\n",
    "graph.add_node(GREET_USER, greet_user)\n",
    "graph.add_node(DISPLAY_AGE, display_age)\n",
    "graph.add_node(DISPLAY_SKILLS, display_skills)\n",
    "\n",
    "graph.set_entry_point(GREET_USER)\n",
    "graph.add_edge(GREET_USER, DISPLAY_AGE)\n",
    "graph.add_edge(DISPLAY_AGE, DISPLAY_SKILLS)\n",
    "graph.set_finish_point(DISPLAY_SKILLS)\n",
    "\n",
    "app = graph.compile()"
   ]
  },
  {
   "cell_type": "markdown",
   "id": "8647e8c5",
   "metadata": {},
   "source": [
    "Invoke the Graph with required inputs"
   ]
  },
  {
   "cell_type": "code",
   "execution_count": 13,
   "id": "5bd49fc4",
   "metadata": {},
   "outputs": [
    {
     "name": "stdout",
     "output_type": "stream",
     "text": [
      "{'name': 'Sudeep', 'age': 34, 'skills': ['JavaScript', 'Python', 'React', 'Node.js', 'AWS'], 'message': '\\nSudeep, welcome to the system! You are 34 years old! You have skills in JavaScript, Python, React, Node.js, AWS'}\n",
      "\n",
      "Sudeep, welcome to the system! You are 34 years old! You have skills in JavaScript, Python, React, Node.js, AWS\n"
     ]
    }
   ],
   "source": [
    "result = app.invoke({ \"name\": \"Sudeep\", \"age\": 34, \"skills\": [\"JavaScript\", \"Python\", \"React\", \"Node.js\", \"AWS\"]})\n",
    "\n",
    "print(result)\n",
    "\n",
    "print(result[\"message\"])"
   ]
  },
  {
   "cell_type": "markdown",
   "id": "d4199b34",
   "metadata": {},
   "source": [
    "View how the compiled graph looks"
   ]
  },
  {
   "cell_type": "code",
   "execution_count": 8,
   "id": "78c38351",
   "metadata": {},
   "outputs": [
    {
     "data": {
      "image/png": "[encoded data removed]",
      "text/plain": [
       "<IPython.core.display.Image object>"
      ]
     },
     "metadata": {},
     "output_type": "display_data"
    }
   ],
   "source": [
    "from IPython.display import Image, display\n",
    "\n",
    "display(Image(app.get_graph().draw_mermaid_png()))"
   ]
  }
 ],
 "metadata": {
  "kernelspec": {
   "display_name": ".venv",
   "language": "python",
   "name": "python3"
  },
  "language_info": {
   "codemirror_mode": {
    "name": "ipython",
    "version": 3
   },
   "file_extension": ".py",
   "mimetype": "text/x-python",
   "name": "python",
   "nbconvert_exporter": "python",
   "pygments_lexer": "ipython3",
   "version": "3.12.5"
  }
 },
 "nbformat": 4,
 "nbformat_minor": 5
}
