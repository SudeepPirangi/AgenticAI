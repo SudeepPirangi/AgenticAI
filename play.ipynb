{
 "cells": [
  {
   "cell_type": "markdown",
   "id": "8ccd8179",
   "metadata": {},
   "source": [
    "# Python Agentic AI Playground\n",
    "\n",
    "### Import packages"
   ]
  },
  {
   "cell_type": "markdown",
   "id": "417a9784",
   "metadata": {},
   "source": [
    "### Load environment variables"
   ]
  },
  {
   "cell_type": "code",
   "execution_count": null,
   "id": "3c506f10",
   "metadata": {},
   "outputs": [],
   "source": [
    "import os\n",
    "from dotenv import load_dotenv\n",
    "from openai import OpenAI\n",
    "from IPython.display import Markdown, display\n",
    "\n",
    "from constants import MODELS"
   ]
  },
  {
   "cell_type": "code",
   "execution_count": null,
   "id": "1957540f",
   "metadata": {},
   "outputs": [],
   "source": [
    "load_dotenv(override=True)\n",
    "\n",
    "PERPLEXITY_API_KEY = os.getenv(\"PERPLEXITY_API_KEY\")\n",
    "MODEL, BASE_URL = MODELS[\"PERPLEXITY\"].values()"
   ]
  },
  {
   "cell_type": "markdown",
   "id": "78a9e059",
   "metadata": {},
   "source": [
    "### Setting-up the client"
   ]
  },
  {
   "cell_type": "code",
   "execution_count": null,
   "id": "a7fb4aab",
   "metadata": {},
   "outputs": [],
   "source": [
    "client = OpenAI(api_key=PERPLEXITY_API_KEY, base_url=BASE_URL)"
   ]
  },
  {
   "cell_type": "markdown",
   "id": "9b8caa7e",
   "metadata": {},
   "source": [
    "### Set-up a question to be asked to the LLM"
   ]
  },
  {
   "cell_type": "code",
   "execution_count": null,
   "id": "0c07eb0f",
   "metadata": {},
   "outputs": [],
   "source": [
    "question = \"What is the capital of Telangana?\""
   ]
  },
  {
   "cell_type": "markdown",
   "id": "688a306b",
   "metadata": {},
   "source": [
    "### Calling OpenAI API"
   ]
  },
  {
   "cell_type": "code",
   "execution_count": null,
   "id": "04ffa1da",
   "metadata": {},
   "outputs": [],
   "source": [
    "messages = [{\"role\": \"user\", \"content\": question}]\n",
    "\n",
    "response = client.chat.completions.create(\n",
    "    model=MODEL,\n",
    "    messages=messages,\n",
    ")\n",
    "\n",
    "answer = response.choices[0].message.content"
   ]
  },
  {
   "cell_type": "markdown",
   "id": "18176745",
   "metadata": {},
   "source": [
    "### Display the response in Markdown format"
   ]
  },
  {
   "cell_type": "code",
   "execution_count": null,
   "id": "169fba19",
   "metadata": {},
   "outputs": [],
   "source": [
    "display(Markdown(answer))"
   ]
  }
 ],
 "metadata": {
  "kernelspec": {
   "display_name": ".venv",
   "language": "python",
   "name": "python3"
  },
  "language_info": {
   "codemirror_mode": {
    "name": "ipython",
    "version": 3
   },
   "file_extension": ".py",
   "mimetype": "text/x-python",
   "name": "python",
   "nbconvert_exporter": "python",
   "pygments_lexer": "ipython3",
   "version": "3.12.5"
  }
 },
 "nbformat": 4,
 "nbformat_minor": 5
}
